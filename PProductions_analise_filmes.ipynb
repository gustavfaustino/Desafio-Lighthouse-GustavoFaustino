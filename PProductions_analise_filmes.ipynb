{
 "cells": [
  {
   "cell_type": "code",
   "execution_count": 3,
   "id": "9ecee16e-69b1-4024-ada3-dd92c54399ce",
   "metadata": {},
   "outputs": [],
   "source": [
    "# Importando a lib do pandas para a analise\n",
    "import pandas as pd"
   ]
  },
  {
   "cell_type": "code",
   "execution_count": 6,
   "id": "e70a0f24-e034-44ac-af7c-bb864e4105fd",
   "metadata": {},
   "outputs": [],
   "source": [
    "# Carregaremos o csv pra um DF (DataFrame)\n",
    "df = pd.read_csv('desafio_indicium_imdb.csv')"
   ]
  },
  {
   "cell_type": "code",
   "execution_count": 7,
   "id": "b5753493-44c8-4e2c-a684-e18ade3f6057",
   "metadata": {
    "scrolled": true
   },
   "outputs": [
    {
     "name": "stdout",
     "output_type": "stream",
     "text": [
      "   Unnamed: 0                                   Series_Title Released_Year  \\\n",
      "0           1                                  The Godfather          1972   \n",
      "1           2                                The Dark Knight          2008   \n",
      "2           3                         The Godfather: Part II          1974   \n",
      "3           4                                   12 Angry Men          1957   \n",
      "4           5  The Lord of the Rings: The Return of the King          2003   \n",
      "\n",
      "  Certificate  Runtime                     Genre  IMDB_Rating  \\\n",
      "0           A  175 min              Crime, Drama          9.2   \n",
      "1          UA  152 min      Action, Crime, Drama          9.0   \n",
      "2           A  202 min              Crime, Drama          9.0   \n",
      "3           U   96 min              Crime, Drama          9.0   \n",
      "4           U  201 min  Action, Adventure, Drama          8.9   \n",
      "\n",
      "                                            Overview  Meta_score  \\\n",
      "0  An organized crime dynasty's aging patriarch t...       100.0   \n",
      "1  When the menace known as the Joker wreaks havo...        84.0   \n",
      "2  The early life and career of Vito Corleone in ...        90.0   \n",
      "3  A jury holdout attempts to prevent a miscarria...        96.0   \n",
      "4  Gandalf and Aragorn lead the World of Men agai...        94.0   \n",
      "\n",
      "               Director           Star1            Star2          Star3  \\\n",
      "0  Francis Ford Coppola   Marlon Brando        Al Pacino     James Caan   \n",
      "1     Christopher Nolan  Christian Bale     Heath Ledger  Aaron Eckhart   \n",
      "2  Francis Ford Coppola       Al Pacino   Robert De Niro  Robert Duvall   \n",
      "3          Sidney Lumet     Henry Fonda      Lee J. Cobb  Martin Balsam   \n",
      "4         Peter Jackson     Elijah Wood  Viggo Mortensen   Ian McKellen   \n",
      "\n",
      "           Star4  No_of_Votes        Gross  \n",
      "0   Diane Keaton      1620367  134,966,411  \n",
      "1  Michael Caine      2303232  534,858,444  \n",
      "2   Diane Keaton      1129952   57,300,000  \n",
      "3   John Fiedler       689845    4,360,000  \n",
      "4  Orlando Bloom      1642758  377,845,905  \n"
     ]
    }
   ],
   "source": [
    "# Vamos analisar as primeiras linhas para ter uma ideia inicial dos dados por aqui:\n",
    "print(df.head())"
   ]
  },
  {
   "cell_type": "code",
   "execution_count": 8,
   "id": "cb1746cd-9eba-4d40-975d-f05431ad2a76",
   "metadata": {},
   "outputs": [
    {
     "name": "stdout",
     "output_type": "stream",
     "text": [
      "<class 'pandas.core.frame.DataFrame'>\n",
      "RangeIndex: 999 entries, 0 to 998\n",
      "Data columns (total 16 columns):\n",
      " #   Column         Non-Null Count  Dtype  \n",
      "---  ------         --------------  -----  \n",
      " 0   Unnamed: 0     999 non-null    int64  \n",
      " 1   Series_Title   999 non-null    object \n",
      " 2   Released_Year  999 non-null    object \n",
      " 3   Certificate    898 non-null    object \n",
      " 4   Runtime        999 non-null    object \n",
      " 5   Genre          999 non-null    object \n",
      " 6   IMDB_Rating    999 non-null    float64\n",
      " 7   Overview       999 non-null    object \n",
      " 8   Meta_score     842 non-null    float64\n",
      " 9   Director       999 non-null    object \n",
      " 10  Star1          999 non-null    object \n",
      " 11  Star2          999 non-null    object \n",
      " 12  Star3          999 non-null    object \n",
      " 13  Star4          999 non-null    object \n",
      " 14  No_of_Votes    999 non-null    int64  \n",
      " 15  Gross          830 non-null    object \n",
      "dtypes: float64(2), int64(2), object(12)\n",
      "memory usage: 125.0+ KB\n",
      "None\n"
     ]
    }
   ],
   "source": [
    "# vamos ver as informações das colunas agora:\n",
    "print(df.info())"
   ]
  },
  {
   "cell_type": "code",
   "execution_count": 15,
   "id": "c941b004-f8cb-4fcb-99ce-cf043b121b6e",
   "metadata": {},
   "outputs": [],
   "source": [
    "# com a análise anterior podemos ver algumas coisas a se alterar, como por exemplo 'Runtime','Gross'\n",
    "# que estão como object ao invés de int64, que seria melhor. E também 'Certificate' e 'Meta_score' tem valores nulos que\n",
    "# precisam de tratamento."
   ]
  },
  {
   "cell_type": "code",
   "execution_count": 11,
   "id": "0337716e-de93-41af-ac3c-987cc7a435a0",
   "metadata": {},
   "outputs": [],
   "source": [
    "# LIMPEZA DOS DADOS\n",
    "# vamos criar um cópia do df, uma boa prática\n",
    "df_limpo = df.copy()"
   ]
  },
  {
   "cell_type": "code",
   "execution_count": null,
   "id": "c28680f9-a4d8-44e6-af87-9b20e215fb27",
   "metadata": {
    "scrolled": true
   },
   "outputs": [],
   "source": [
    "# LIMPANDO A COLUNA 'Runtime'\n",
    "df_limpo['Runtime'] = df_limpo['Runtime'].str.replace(' min', '').astype(int)\n",
    "#Aqui tiramos o ' min' do objeto e trocamos o tipo dele pra um inteiro ao invés de \"texto\""
   ]
  },
  {
   "cell_type": "code",
   "execution_count": 14,
   "id": "abab1a35-320b-4722-a168-81e91d37e419",
   "metadata": {},
   "outputs": [],
   "source": [
    "# LIMPANDO A COLUNA 'Gross'\n",
    "df_limpo['Gross'] = df_limpo['Gross'].str.replace(',', '', regex=False)\n",
    "# limpamos as virgulas e convertemos pra numero de novo\n",
    "df_limpo['Gross'] = pd.to_numeric(df_limpo['Gross'], errors='coerce')\n",
    "#o errors='coerce' serve para transformar valos não numéricos (NaN)"
   ]
  },
  {
   "cell_type": "code",
   "execution_count": 16,
   "id": "63c0dcf8-a25c-4081-90c4-4e14b5b2879a",
   "metadata": {},
   "outputs": [
    {
     "name": "stderr",
     "output_type": "stream",
     "text": [
      "C:\\Users\\gusta\\AppData\\Local\\Temp\\ipykernel_8068\\1244895284.py:4: FutureWarning: A value is trying to be set on a copy of a DataFrame or Series through chained assignment using an inplace method.\n",
      "The behavior will change in pandas 3.0. This inplace method will never work because the intermediate object on which we are setting values always behaves as a copy.\n",
      "\n",
      "For example, when doing 'df[col].method(value, inplace=True)', try using 'df.method({col: value}, inplace=True)' or df[col] = df[col].method(value) instead, to perform the operation inplace on the original object.\n",
      "\n",
      "\n",
      "  df_limpo['Meta_score'].fillna(media_meta_score, inplace=True)\n"
     ]
    }
   ],
   "source": [
    "# LIDANDO COM OS VALORES NULOS\n",
    "# para o 'meta_score', vamos com uma estratégia de preencher com a média\n",
    "media_meta_score = df_limpo['Meta_score'].mean()\n",
    "df_limpo['Meta_score'].fillna(media_meta_score, inplace=True)"
   ]
  }
 ],
 "metadata": {
  "kernelspec": {
   "display_name": "Python 3 (ipykernel)",
   "language": "python",
   "name": "python3"
  },
  "language_info": {
   "codemirror_mode": {
    "name": "ipython",
    "version": 3
   },
   "file_extension": ".py",
   "mimetype": "text/x-python",
   "name": "python",
   "nbconvert_exporter": "python",
   "pygments_lexer": "ipython3",
   "version": "3.13.2"
  }
 },
 "nbformat": 4,
 "nbformat_minor": 5
}
